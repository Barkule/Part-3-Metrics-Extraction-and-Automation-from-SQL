{
  "nbformat": 4,
  "nbformat_minor": 0,
  "metadata": {
    "colab": {
      "provenance": []
    },
    "kernelspec": {
      "name": "python3",
      "display_name": "Python 3"
    },
    "language_info": {
      "name": "python"
    }
  },
  "cells": [
    {
      "source": [
        "!pip install schedule"
      ],
      "cell_type": "code",
      "metadata": {
        "colab": {
          "base_uri": "https://localhost:8080/"
        },
        "id": "DDn2DDhMQgwb",
        "outputId": "0507ce8f-bd95-4912-a12e-257b9f83e0ef"
      },
      "execution_count": 2,
      "outputs": [
        {
          "output_type": "stream",
          "name": "stdout",
          "text": [
            "Collecting schedule\n",
            "  Downloading schedule-1.2.2-py3-none-any.whl.metadata (3.8 kB)\n",
            "Downloading schedule-1.2.2-py3-none-any.whl (12 kB)\n",
            "Installing collected packages: schedule\n",
            "Successfully installed schedule-1.2.2\n"
          ]
        }
      ]
    },
    {
      "cell_type": "code",
      "execution_count": 8,
      "metadata": {
        "colab": {
          "base_uri": "https://localhost:8080/"
        },
        "id": "sW5-_QUxQHdc",
        "outputId": "9093b626-9bce-4b73-d3fc-9fcd2923fc7c"
      },
      "outputs": [
        {
          "output_type": "stream",
          "name": "stdout",
          "text": [
            "Metrics and insights fetched and stored successfully.\n"
          ]
        }
      ],
      "source": [
        "import psycopg2\n",
        "import json\n",
        "from datetime import datetime\n",
        "\n",
        "#connect to Supabase PostgreSQL database\n",
        "def connect_db():\n",
        "    return psycopg2.connect(\n",
        "        host=\"aws-0-ap-south-1.pooler.supabase.com\",\n",
        "        database=\"postgres\",\n",
        "        user=\"postgres.erkmglmhqgsdyrjniozo\",\n",
        "        password=\"xOdgFwQ4O8dbqPVZ\",\n",
        "        port=\"6543\"\n",
        "    )\n",
        "\n",
        "#fetch metrics and insights\n",
        "def fetch_metrics_and_store():\n",
        "    connection = connect_db()\n",
        "    cursor = connection.cursor()\n",
        "\n",
        "    #calculate average CTR\n",
        "    cursor.execute(\"\"\"\n",
        "    SELECT\n",
        "        search_date,\n",
        "        AVG(click_through_rate) AS average_ctr\n",
        "    FROM\n",
        "        search_clicks\n",
        "    GROUP BY\n",
        "        search_date;\n",
        "    \"\"\")\n",
        "    avg_ctr = cursor.fetchall()\n",
        "\n",
        "    #fetch top 5 queries\n",
        "    cursor.execute(\"\"\"\n",
        "    SELECT\n",
        "        search_query,\n",
        "        click_through_rate\n",
        "    FROM\n",
        "        search_clicks\n",
        "    ORDER BY\n",
        "        click_through_rate DESC\n",
        "    LIMIT 5;\n",
        "    \"\"\")\n",
        "    top_queries = cursor.fetchall()\n",
        "\n",
        "    #fetch low-performing queries\n",
        "    cursor.execute(\"\"\"\n",
        "    SELECT\n",
        "        search_query,\n",
        "        impressions,\n",
        "        clicks\n",
        "    FROM\n",
        "        search_clicks\n",
        "    WHERE\n",
        "        impressions > 500 AND clicks < 50;\n",
        "    \"\"\")\n",
        "    low_perf_queries = cursor.fetchall()\n",
        "\n",
        "    #insert into search_insights table\n",
        "    cursor.execute(\"\"\"\n",
        "    INSERT INTO search_insights (insight_date, average_ctr, top_queries, low_performance_queries)\n",
        "    VALUES (%s, %s, %s, %s)\n",
        "    \"\"\", (\n",
        "        datetime.now().date(),\n",
        "        avg_ctr[0][1] if avg_ctr else None,\n",
        "        json.dumps([{\"query\": row[0], \"ctr\": row[1]} for row in top_queries]),\n",
        "        json.dumps([{\"query\": row[0], \"impressions\": row[1], \"clicks\": row[2]} for row in low_perf_queries])\n",
        "    ))\n",
        "    connection.commit()\n",
        "\n",
        "    cursor.close()\n",
        "    connection.close()\n",
        "\n",
        "#run the task once\n",
        "if __name__ == \"__main__\":\n",
        "    fetch_metrics_and_store()\n",
        "    print(\"Metrics and insights fetched and stored successfully.\")\n"
      ]
    }
  ]
}